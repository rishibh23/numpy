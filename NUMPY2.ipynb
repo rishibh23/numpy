{
  "nbformat": 4,
  "nbformat_minor": 0,
  "metadata": {
    "colab": {
      "name": "NUMPY2.ipynb",
      "provenance": []
    },
    "kernelspec": {
      "name": "python3",
      "display_name": "Python 3"
    },
    "language_info": {
      "name": "python"
    }
  },
  "cells": [
    {
      "cell_type": "code",
      "metadata": {
        "id": "bMvFqd--jshG"
      },
      "source": [
        "from google.colab import drive\n",
        "drive.mount('/content/drive')"
      ],
      "execution_count": null,
      "outputs": []
    },
    {
      "cell_type": "code",
      "metadata": {
        "id": "drrhbxCYkFWZ"
      },
      "source": [
        "import numpy as np"
      ],
      "execution_count": 1,
      "outputs": []
    },
    {
      "cell_type": "code",
      "metadata": {
        "id": "52YvsgmkkKLi"
      },
      "source": [
        "a=np.array([1,2,3,4,5])"
      ],
      "execution_count": 2,
      "outputs": []
    },
    {
      "cell_type": "code",
      "metadata": {
        "colab": {
          "base_uri": "https://localhost:8080/"
        },
        "id": "qglrUj57kKOz",
        "outputId": "6711cb1b-f22f-45d7-d5e7-d49eaeed4366"
      },
      "source": [
        "type(a)"
      ],
      "execution_count": 3,
      "outputs": [
        {
          "output_type": "execute_result",
          "data": {
            "text/plain": [
              "numpy.ndarray"
            ]
          },
          "metadata": {
            "tags": []
          },
          "execution_count": 3
        }
      ]
    },
    {
      "cell_type": "code",
      "metadata": {
        "id": "8N_giCPxkKR6"
      },
      "source": [
        "import os"
      ],
      "execution_count": 4,
      "outputs": []
    },
    {
      "cell_type": "code",
      "metadata": {
        "colab": {
          "base_uri": "https://localhost:8080/",
          "height": 35
        },
        "id": "O5v3cAipkKVG",
        "outputId": "2975e236-1171-4e4a-81b4-43f15aa68676"
      },
      "source": [
        "os.getcwd()"
      ],
      "execution_count": 5,
      "outputs": [
        {
          "output_type": "execute_result",
          "data": {
            "application/vnd.google.colaboratory.intrinsic+json": {
              "type": "string"
            },
            "text/plain": [
              "'/content'"
            ]
          },
          "metadata": {
            "tags": []
          },
          "execution_count": 5
        }
      ]
    },
    {
      "cell_type": "code",
      "metadata": {
        "id": "l9vcBhKukKYm"
      },
      "source": [
        "import pandas as pd"
      ],
      "execution_count": 6,
      "outputs": []
    },
    {
      "cell_type": "code",
      "metadata": {
        "id": "7aCR5mtYkKbi"
      },
      "source": [
        "df=pd.read_csv(\"/content/drive/MyDrive/Colab Notebooks/titanic.csv\")"
      ],
      "execution_count": 7,
      "outputs": []
    },
    {
      "cell_type": "code",
      "metadata": {
        "colab": {
          "base_uri": "https://localhost:8080/"
        },
        "id": "W9hW4Aw3kKex",
        "outputId": "4e1e7613-4b7f-4981-c1b1-d700d17f5ceb"
      },
      "source": [
        "df.shape"
      ],
      "execution_count": 8,
      "outputs": [
        {
          "output_type": "execute_result",
          "data": {
            "text/plain": [
              "(891, 12)"
            ]
          },
          "metadata": {
            "tags": []
          },
          "execution_count": 8
        }
      ]
    },
    {
      "cell_type": "code",
      "metadata": {
        "colab": {
          "base_uri": "https://localhost:8080/",
          "height": 254
        },
        "id": "eOy-UuyckKh3",
        "outputId": "4a206715-199f-4a2e-94ea-4d53756f2d77"
      },
      "source": [
        "df.head()"
      ],
      "execution_count": 9,
      "outputs": [
        {
          "output_type": "execute_result",
          "data": {
            "text/html": [
              "<div>\n",
              "<style scoped>\n",
              "    .dataframe tbody tr th:only-of-type {\n",
              "        vertical-align: middle;\n",
              "    }\n",
              "\n",
              "    .dataframe tbody tr th {\n",
              "        vertical-align: top;\n",
              "    }\n",
              "\n",
              "    .dataframe thead th {\n",
              "        text-align: right;\n",
              "    }\n",
              "</style>\n",
              "<table border=\"1\" class=\"dataframe\">\n",
              "  <thead>\n",
              "    <tr style=\"text-align: right;\">\n",
              "      <th></th>\n",
              "      <th>PassengerId</th>\n",
              "      <th>Survived</th>\n",
              "      <th>Pclass</th>\n",
              "      <th>Name</th>\n",
              "      <th>Sex</th>\n",
              "      <th>Age</th>\n",
              "      <th>SibSp</th>\n",
              "      <th>Parch</th>\n",
              "      <th>Ticket</th>\n",
              "      <th>Fare</th>\n",
              "      <th>Cabin</th>\n",
              "      <th>Embarked</th>\n",
              "    </tr>\n",
              "  </thead>\n",
              "  <tbody>\n",
              "    <tr>\n",
              "      <th>0</th>\n",
              "      <td>1</td>\n",
              "      <td>0</td>\n",
              "      <td>3</td>\n",
              "      <td>Braund, Mr. Owen Harris</td>\n",
              "      <td>male</td>\n",
              "      <td>22.0</td>\n",
              "      <td>1</td>\n",
              "      <td>0</td>\n",
              "      <td>A/5 21171</td>\n",
              "      <td>7.2500</td>\n",
              "      <td>NaN</td>\n",
              "      <td>S</td>\n",
              "    </tr>\n",
              "    <tr>\n",
              "      <th>1</th>\n",
              "      <td>2</td>\n",
              "      <td>1</td>\n",
              "      <td>1</td>\n",
              "      <td>Cumings, Mrs. John Bradley (Florence Briggs Th...</td>\n",
              "      <td>female</td>\n",
              "      <td>38.0</td>\n",
              "      <td>1</td>\n",
              "      <td>0</td>\n",
              "      <td>PC 17599</td>\n",
              "      <td>71.2833</td>\n",
              "      <td>C85</td>\n",
              "      <td>C</td>\n",
              "    </tr>\n",
              "    <tr>\n",
              "      <th>2</th>\n",
              "      <td>3</td>\n",
              "      <td>1</td>\n",
              "      <td>3</td>\n",
              "      <td>Heikkinen, Miss. Laina</td>\n",
              "      <td>female</td>\n",
              "      <td>26.0</td>\n",
              "      <td>0</td>\n",
              "      <td>0</td>\n",
              "      <td>STON/O2. 3101282</td>\n",
              "      <td>7.9250</td>\n",
              "      <td>NaN</td>\n",
              "      <td>S</td>\n",
              "    </tr>\n",
              "    <tr>\n",
              "      <th>3</th>\n",
              "      <td>4</td>\n",
              "      <td>1</td>\n",
              "      <td>1</td>\n",
              "      <td>Futrelle, Mrs. Jacques Heath (Lily May Peel)</td>\n",
              "      <td>female</td>\n",
              "      <td>35.0</td>\n",
              "      <td>1</td>\n",
              "      <td>0</td>\n",
              "      <td>113803</td>\n",
              "      <td>53.1000</td>\n",
              "      <td>C123</td>\n",
              "      <td>S</td>\n",
              "    </tr>\n",
              "    <tr>\n",
              "      <th>4</th>\n",
              "      <td>5</td>\n",
              "      <td>0</td>\n",
              "      <td>3</td>\n",
              "      <td>Allen, Mr. William Henry</td>\n",
              "      <td>male</td>\n",
              "      <td>35.0</td>\n",
              "      <td>0</td>\n",
              "      <td>0</td>\n",
              "      <td>373450</td>\n",
              "      <td>8.0500</td>\n",
              "      <td>NaN</td>\n",
              "      <td>S</td>\n",
              "    </tr>\n",
              "  </tbody>\n",
              "</table>\n",
              "</div>"
            ],
            "text/plain": [
              "   PassengerId  Survived  Pclass  ...     Fare Cabin  Embarked\n",
              "0            1         0       3  ...   7.2500   NaN         S\n",
              "1            2         1       1  ...  71.2833   C85         C\n",
              "2            3         1       3  ...   7.9250   NaN         S\n",
              "3            4         1       1  ...  53.1000  C123         S\n",
              "4            5         0       3  ...   8.0500   NaN         S\n",
              "\n",
              "[5 rows x 12 columns]"
            ]
          },
          "metadata": {
            "tags": []
          },
          "execution_count": 9
        }
      ]
    },
    {
      "cell_type": "code",
      "metadata": {
        "colab": {
          "base_uri": "https://localhost:8080/"
        },
        "id": "5mrrc8bKkKlU",
        "outputId": "4a003beb-f3cc-46da-d2f6-6b142dade16c"
      },
      "source": [
        "type(df)"
      ],
      "execution_count": 10,
      "outputs": [
        {
          "output_type": "execute_result",
          "data": {
            "text/plain": [
              "pandas.core.frame.DataFrame"
            ]
          },
          "metadata": {
            "tags": []
          },
          "execution_count": 10
        }
      ]
    },
    {
      "cell_type": "code",
      "metadata": {
        "colab": {
          "base_uri": "https://localhost:8080/"
        },
        "id": "YQZ1Snp4kKoi",
        "outputId": "23f07b82-fe27-4fc9-aff4-c276b2080028"
      },
      "source": [
        "type(df[\"Age\"])"
      ],
      "execution_count": 11,
      "outputs": [
        {
          "output_type": "execute_result",
          "data": {
            "text/plain": [
              "pandas.core.series.Series"
            ]
          },
          "metadata": {
            "tags": []
          },
          "execution_count": 11
        }
      ]
    },
    {
      "cell_type": "code",
      "metadata": {
        "colab": {
          "base_uri": "https://localhost:8080/"
        },
        "id": "NiuDmUcakKtW",
        "outputId": "688452f9-b536-4589-f13f-85c6e54cd2a9"
      },
      "source": [
        "df.isna().sum()"
      ],
      "execution_count": 12,
      "outputs": [
        {
          "output_type": "execute_result",
          "data": {
            "text/plain": [
              "PassengerId      0\n",
              "Survived         0\n",
              "Pclass           0\n",
              "Name             0\n",
              "Sex              0\n",
              "Age            177\n",
              "SibSp            0\n",
              "Parch            0\n",
              "Ticket           0\n",
              "Fare             0\n",
              "Cabin          687\n",
              "Embarked         2\n",
              "dtype: int64"
            ]
          },
          "metadata": {
            "tags": []
          },
          "execution_count": 12
        }
      ]
    },
    {
      "cell_type": "code",
      "metadata": {
        "colab": {
          "base_uri": "https://localhost:8080/"
        },
        "id": "pinQjEiBktzw",
        "outputId": "593082ab-95ad-4d16-bd38-f949835acc60"
      },
      "source": [
        "sum(df[\"Cabin\"].isnull())"
      ],
      "execution_count": 13,
      "outputs": [
        {
          "output_type": "execute_result",
          "data": {
            "text/plain": [
              "687"
            ]
          },
          "metadata": {
            "tags": []
          },
          "execution_count": 13
        }
      ]
    },
    {
      "cell_type": "code",
      "metadata": {
        "id": "vFVYngnUkt3T"
      },
      "source": [
        "df.drop([\"Cabin\"],axis=1,inplace=True)"
      ],
      "execution_count": 14,
      "outputs": []
    },
    {
      "cell_type": "code",
      "metadata": {
        "colab": {
          "base_uri": "https://localhost:8080/"
        },
        "id": "4TJBENdkkt6k",
        "outputId": "086f016d-f072-4c9e-eb4b-6f7a4aae42c7"
      },
      "source": [
        "df[\"Ticket\"][0:5]\n"
      ],
      "execution_count": 15,
      "outputs": [
        {
          "output_type": "execute_result",
          "data": {
            "text/plain": [
              "0           A/5 21171\n",
              "1            PC 17599\n",
              "2    STON/O2. 3101282\n",
              "3              113803\n",
              "4              373450\n",
              "Name: Ticket, dtype: object"
            ]
          },
          "metadata": {
            "tags": []
          },
          "execution_count": 15
        }
      ]
    },
    {
      "cell_type": "code",
      "metadata": {
        "id": "a7W-0tGzkt_k"
      },
      "source": [
        "df.drop([\"Ticket\"],axis=1,inplace=True)"
      ],
      "execution_count": 16,
      "outputs": []
    },
    {
      "cell_type": "code",
      "metadata": {
        "colab": {
          "base_uri": "https://localhost:8080/"
        },
        "id": "09UjJfKekuCv",
        "outputId": "6d9fed9b-1a88-4176-8069-7c957c18c078"
      },
      "source": [
        "df.apply(lambda x:sum(x.isnull()),axis=0)"
      ],
      "execution_count": 17,
      "outputs": [
        {
          "output_type": "execute_result",
          "data": {
            "text/plain": [
              "PassengerId      0\n",
              "Survived         0\n",
              "Pclass           0\n",
              "Name             0\n",
              "Sex              0\n",
              "Age            177\n",
              "SibSp            0\n",
              "Parch            0\n",
              "Fare             0\n",
              "Embarked         2\n",
              "dtype: int64"
            ]
          },
          "metadata": {
            "tags": []
          },
          "execution_count": 17
        }
      ]
    },
    {
      "cell_type": "code",
      "metadata": {
        "colab": {
          "base_uri": "https://localhost:8080/"
        },
        "id": "rvGH8tJLkuGS",
        "outputId": "3c62eec6-4dbb-43e2-951b-82f833c951b5"
      },
      "source": [
        "df.Age.fillna(df.Age.mean(),inplace=True)\n",
        "df.apply(lambda x:sum(x.isnull()),axis=0)"
      ],
      "execution_count": 18,
      "outputs": [
        {
          "output_type": "execute_result",
          "data": {
            "text/plain": [
              "PassengerId    0\n",
              "Survived       0\n",
              "Pclass         0\n",
              "Name           0\n",
              "Sex            0\n",
              "Age            0\n",
              "SibSp          0\n",
              "Parch          0\n",
              "Fare           0\n",
              "Embarked       2\n",
              "dtype: int64"
            ]
          },
          "metadata": {
            "tags": []
          },
          "execution_count": 18
        }
      ]
    },
    {
      "cell_type": "code",
      "metadata": {
        "colab": {
          "base_uri": "https://localhost:8080/"
        },
        "id": "PBfIC6frlDcd",
        "outputId": "e938f1cb-e167-4722-f2c4-468ea7278b04"
      },
      "source": [
        "def get_title(name):\n",
        "    if '.' in name:\n",
        "        return name.split(',')[1].split('.')[0].strip()\n",
        "    else:\n",
        "        return 'Unknown'\n",
        "\n",
        "ans=get_title('Braund, Mr. Owen Harris')\n",
        "print (ans)"
      ],
      "execution_count": 19,
      "outputs": [
        {
          "output_type": "stream",
          "text": [
            "Mr\n"
          ],
          "name": "stdout"
        }
      ]
    },
    {
      "cell_type": "code",
      "metadata": {
        "colab": {
          "base_uri": "https://localhost:8080/"
        },
        "id": "giREDb7jlDgK",
        "outputId": "5d04dbee-e7ad-4d81-a53b-dd0b0529f5d7"
      },
      "source": [
        "df2 = [df.Name.str.split(' ')[index][0]\n",
        "             for index in range(0, len(df))]\n",
        "print(df2)"
      ],
      "execution_count": 20,
      "outputs": [
        {
          "output_type": "stream",
          "text": [
            "['Braund,', 'Cumings,', 'Heikkinen,', 'Futrelle,', 'Allen,', 'Moran,', 'McCarthy,', 'Palsson,', 'Johnson,', 'Nasser,', 'Sandstrom,', 'Bonnell,', 'Saundercock,', 'Andersson,', 'Vestrom,', 'Hewlett,', 'Rice,', 'Williams,', 'Vander', 'Masselmani,', 'Fynney,', 'Beesley,', 'McGowan,', 'Sloper,', 'Palsson,', 'Asplund,', 'Emir,', 'Fortune,', \"O'Dwyer,\", 'Todoroff,', 'Uruchurtu,', 'Spencer,', 'Glynn,', 'Wheadon,', 'Meyer,', 'Holverson,', 'Mamee,', 'Cann,', 'Vander', 'Nicola-Yarred,', 'Ahlin,', 'Turpin,', 'Kraeff,', 'Laroche,', 'Devaney,', 'Rogers,', 'Lennon,', \"O'Driscoll,\", 'Samaan,', 'Arnold-Franchi,', 'Panula,', 'Nosworthy,', 'Harper,', 'Faunthorpe,', 'Ostby,', 'Woolner,', 'Rugg,', 'Novel,', 'West,', 'Goodwin,', 'Sirayanian,', 'Icard,', 'Harris,', 'Skoog,', 'Stewart,', 'Moubarek,', 'Nye,', 'Crease,', 'Andersson,', 'Kink,', 'Jenkin,', 'Goodwin,', 'Hood,', 'Chronopoulos,', 'Bing,', 'Moen,', 'Staneff,', 'Moutal,', 'Caldwell,', 'Dowdell,', 'Waelens,', 'Sheerlinck,', 'McDermott,', 'Carrau,', 'Ilett,', 'Backstrom,', 'Ford,', 'Slocovski,', 'Fortune,', 'Celotti,', 'Christmann,', 'Andreasson,', 'Chaffee,', 'Dean,', 'Coxon,', 'Shorney,', 'Goldschmidt,', 'Greenfield,', 'Doling,', 'Kantor,', 'Petranec,', 'Petroff,', 'White,', 'Johansson,', 'Gustafsson,', 'Mionoff,', 'Salkjelsvik,', 'Moss,', 'Rekic,', 'Moran,', 'Porter,', 'Zabour,', 'Barton,', 'Jussila,', 'Attalah,', 'Pekoniemi,', 'Connors,', 'Turpin,', 'Baxter,', 'Andersson,', 'Hickman,', 'Moore,', 'Nasser,', 'Webber,', 'White,', 'Nicola-Yarred,', 'McMahon,', 'Madsen,', 'Peter,', 'Ekstrom,', 'Drazenoic,', 'Coelho,', 'Robins,', 'Weisz,', 'Sobey,', 'Richard,', 'Newsom,', 'Futrelle,', 'Osen,', 'Giglio,', 'Boulos,', 'Nysten,', 'Hakkarainen,', 'Burke,', 'Andrew,', 'Nicholls,', 'Andersson,', 'Ford,', 'Navratil,', 'Byles,', 'Bateman,', 'Pears,', 'Meo,', 'van', 'Olsen,', 'Williams,', 'Gilnagh,', 'Corn,', 'Smiljanic,', 'Sage,', 'Cribb,', 'Watt,', 'Bengtsson,', 'Calic,', 'Panula,', 'Goldsmith,', 'Chibnall,', 'Skoog,', 'Baumann,', 'Ling,', 'Van', 'Rice,', 'Johnson,', 'Sivola,', 'Smith,', 'Klasen,', 'Lefebre,', 'Isham,', 'Hale,', 'Leonard,', 'Sage,', 'Pernot,', 'Asplund,', 'Becker,', 'Kink-Heilmann,', 'Rood,', \"O'Brien,\", 'Romaine,', 'Bourke,', 'Turcin,', 'Pinsky,', 'Carbines,', 'Andersen-Jensen,', 'Navratil,', 'Brown,', 'Lurette,', 'Mernagh,', 'Olsen,', 'Madigan,', 'Yrois,', 'Vande', 'Sage,', 'Johanson,', 'Youseff,', 'Cohen,', 'Strom,', 'Backstrom,', 'Albimona,', 'Carr,', 'Blank,', 'Ali,', 'Cameron,', 'Perkin,', 'Givard,', 'Kiernan,', 'Newell,', 'Honkanen,', 'Jacobsohn,', 'Bazzani,', 'Harris,', 'Sunderland,', 'Bracken,', 'Green,', 'Nenkoff,', 'Hoyt,', 'Berglund,', 'Mellors,', 'Lovell,', 'Fahlstrom,', 'Lefebre,', 'Harris,', 'Larsson,', 'Sjostedt,', 'Asplund,', 'Leyson,', 'Harknett,', 'Hold,', 'Collyer,', 'Pengelly,', 'Hunt,', 'Zabour,', 'Murphy,', 'Coleridge,', 'Maenpaa,', 'Attalah,', 'Minahan,', 'Lindahl,', 'Hamalainen,', 'Beckwith,', 'Carter,', 'Reed,', 'Strom,', 'Stead,', 'Lobb,', 'Rosblom,', 'Touma,', 'Thorne,', 'Cherry,', 'Ward,', 'Parrish,', 'Smith,', 'Asplund,', 'Taussig,', 'Harrison,', 'Henry,', 'Reeves,', 'Panula,', 'Persson,', 'Graham,', 'Bissette,', 'Cairns,', 'Tornquist,', 'Mellinger,', 'Natsch,', 'Healy,', 'Andrews,', 'Lindblom,', 'Parkes,', 'Rice,', 'Abbott,', 'Duane,', 'Olsson,', 'de', 'Dorking,', 'Smith,', 'Stankovic,', 'de', 'Naidenoff,', 'Hosono,', 'Connolly,', 'Barber,', 'Bishop,', 'Levy,', 'Haas,', 'Mineff,', 'Lewy,', 'Hanna,', 'Allison,', 'Saalfeld,', 'Baxter,', 'Kelly,', 'McCoy,', 'Johnson,', 'Keane,', 'Williams,', 'Allison,', 'Fleming,', 'Penasco', 'Abelson,', 'Francatelli,', 'Hays,', 'Ryerson,', 'Lahtinen,', 'Hendekovic,', 'Hart,', 'Nilsson,', 'Kantor,', 'Moraweck,', 'Wick,', 'Spedden,', 'Dennis,', 'Danoff,', 'Slayter,', 'Caldwell,', 'Sage,', 'Young,', 'Nysveen,', 'Ball,', 'Goldsmith,', 'Hippach,', 'McCoy,', 'Partner,', 'Graham,', 'Vander', 'Frauenthal,', 'Denkoff,', 'Pears,', 'Burns,', 'Dahl,', 'Blackwell,', 'Navratil,', 'Fortune,', 'Collander,', 'Sedgwick,', 'Fox,', 'Brown,', 'Smith,', 'Davison,', 'Coutts,', 'Dimic,', 'Odahl,', 'Williams-Lambert,', 'Elias,', 'Arnold-Franchi,', 'Yousif,', 'Vanden', 'Bowerman,', 'Funk,', 'McGovern,', 'Mockler,', 'Skoog,', 'del', 'Barbara,', 'Asim,', \"O'Brien,\", 'Adahl,', 'Warren,', 'Moussa,', 'Jermyn,', 'Aubart,', 'Harder,', 'Wiklund,', 'Beavan,', 'Ringhini,', 'Palsson,', 'Meyer,', 'Landergren,', 'Widener,', 'Betros,', 'Gustafsson,', 'Bidois,', 'Nakid,', 'Tikkanen,', 'Holverson,', 'Plotcharsky,', 'Davies,', 'Goodwin,', 'Buss,', 'Sadlier,', 'Lehmann,', 'Carter,', 'Jansson,', 'Gustafsson,', 'Newell,', 'Sandstrom,', 'Johansson,', 'Olsson,', 'McKane,', 'Pain,', 'Trout,', 'Niskanen,', 'Adams,', 'Jussila,', 'Hakkarainen,', 'Oreskovic,', 'Gale,', 'Widegren,', 'Richards,', 'Birkeland,', 'Lefebre,', 'Sdycoff,', 'Hart,', 'Minahan,', 'Cunningham,', 'Sundman,', 'Meek,', 'Drew,', 'Silven,', 'Matthews,', 'Van', 'Gheorgheff,', 'Charters,', 'Zimmerman,', 'Danbom,', 'Rosblom,', 'Wiseman,', 'Clarke,', 'Phillips,', 'Flynn,', 'Pickard,', 'Bjornstrom-Steffansson,', 'Thorneycroft,', 'Louch,', 'Kallio,', 'Silvey,', 'Carter,', 'Ford,', 'Richards,', 'Fortune,', 'Kvillner,', 'Hart,', 'Hampe,', 'Petterson,', 'Reynaldo,', 'Johannesen-Bratthammer,', 'Dodge,', 'Mellinger,', 'Seward,', 'Baclini,', 'Peuchen,', 'West,', 'Hagland,', 'Foreman,', 'Goldenberg,', 'Peduzzi,', 'Jalsevac,', 'Millet,', 'Kenyon,', 'Toomey,', \"O'Connor,\", 'Anderson,', 'Morley,', 'Gee,', 'Milling,', 'Maisner,', 'Goncalves,', 'Campbell,', 'Smart,', 'Scanlan,', 'Baclini,', 'Keefe,', 'Cacic,', 'West,', 'Jerwan,', 'Strandberg,', 'Clifford,', 'Renouf,', 'Braund,', 'Karlsson,', 'Hirvonen,', 'Goodwin,', 'Frost,', 'Rouse,', 'Turkula,', 'Bishop,', 'Lefebre,', 'Hoyt,', 'Kent,', 'Somerton,', 'Coutts,', 'Hagland,', 'Windelov,', 'Molson,', 'Artagaveytia,', 'Stanley,', 'Yousseff,', 'Eustis,', 'Shellard,', 'Allison,', 'Svensson,', 'Calic,', 'Canavan,', \"O'Sullivan,\", 'Laitinen,', 'Maioni,', 'Penasco', 'Quick,', 'Bradley,', 'Olsen,', 'Lang,', 'Daly,', 'Webber,', 'McGough,', 'Rothschild,', 'Coleff,', 'Walker,', 'Lemore,', 'Ryan,', 'Angle,', 'Pavlovic,', 'Perreault,', 'Vovk,', 'Lahoud,', 'Hippach,', 'Kassem,', 'Farrell,', 'Ridsdale,', 'Farthing,', 'Salonen,', 'Hocking,', 'Quick,', 'Toufik,', 'Elias,', 'Peter,', 'Cacic,', 'Hart,', 'Butt,', 'LeRoy,', 'Risien,', 'Frolicher,', 'Crosby,', 'Andersson,', 'Andersson,', 'Beane,', 'Douglas,', 'Nicholson,', 'Beane,', 'Padro', 'Goldsmith,', 'Davies,', 'Thayer,', 'Sharp,', \"O'Brien,\", 'Leeni,', 'Ohman,', 'Wright,', 'Duff', 'Robbins,', 'Taussig,', 'de', 'Morrow,', 'Sivic,', 'Norman,', 'Simmons,', 'Meanwell,', 'Davies,', 'Stoytcheff,', 'Palsson,', 'Doharr,', 'Jonsson,', 'Harris,', 'Appleton,', 'Flynn,', 'Kelly,', 'Rush,', 'Patchett,', 'Garside,', 'Silvey,', 'Caram,', 'Jussila,', 'Christy,', 'Thayer,', 'Downton,', 'Ross,', 'Paulner,', 'Taussig,', 'Jarvis,', 'Frolicher-Stehli,', 'Gilinski,', 'Murdlin,', 'Rintamaki,', 'Stephenson,', 'Elsbury,', 'Bourke,', 'Chapman,', 'Van', 'Leitch,', 'Johnson,', 'Boulos,', 'Duff', 'Jacobsohn,', 'Slabenoff,', 'Harrington,', 'Torber,', 'Homer,', 'Lindell,', 'Karaic,', 'Daniel,', 'Laroche,', 'Shutes,', 'Andersson,', 'Jardin,', 'Murphy,', 'Horgan,', 'Brocklebank,', 'Herman,', 'Danbom,', 'Lobb,', 'Becker,', 'Gavey,', 'Yasbeck,', 'Kimball,', 'Nakid,', 'Hansen,', 'Bowen,', 'Sutton,', 'Kirkland,', 'Longley,', 'Bostandyeff,', \"O'Connell,\", 'Barkworth,', 'Lundahl,', 'Stahelin-Maeglin,', 'Parr,', 'Skoog,', 'Davis,', 'Leinonen,', 'Collyer,', 'Panula,', 'Thorneycroft,', 'Jensen,', 'Sagesser,', 'Skoog,', 'Foo,', 'Baclini,', 'Harper,', 'Cor,', 'Simonius-Blumer,', 'Willey,', 'Stanley,', 'Mitkoff,', 'Doling,', 'Kalvik,', \"O'Leary,\", 'Hegarty,', 'Hickman,', 'Radeff,', 'Bourke,', 'Eitemiller,', 'Newell,', 'Frauenthal,', 'Badt,', 'Colley,', 'Coleff,', 'Lindqvist,', 'Hickman,', 'Butler,', 'Rommetvedt,', 'Cook,', 'Taylor,', 'Brown,', 'Davidson,', 'Mitchell,', 'Wilhelms,', 'Watson,', 'Edvardsson,', 'Sawyer,', 'Turja,', 'Goodwin,', 'Cardeza,', 'Peters,', 'Hassab,', 'Olsvigen,', 'Goodwin,', 'Brown,', 'Laroche,', 'Panula,', 'Dakic,', 'Fischer,', 'Madill,', 'Dick,', 'Karun,', 'Lam,', 'Saad,', 'Weir,', 'Chapman,', 'Kelly,', 'Mullens,', 'Thayer,', 'Humblen,', 'Astor,', 'Silverthorne,', 'Barbara,', 'Gallagher,', 'Hansen,', 'Morley,', 'Kelly,', 'Calderhead,', 'Cleaver,', 'Moubarek,', 'Mayne,', 'Klaber,', 'Taylor,', 'Larsson,', 'Greenberg,', 'Soholt,', 'Endres,', 'Troutt,', 'McEvoy,', 'Johnson,', 'Harper,', 'Jensen,', 'Gillespie,', 'Hodges,', 'Chambers,', 'Oreskovic,', 'Renouf,', 'Mannion,', 'Bryhl,', 'Ilmakangas,', 'Allen,', 'Hassan,', 'Knight,', 'Berriman,', 'Troupiansky,', 'Williams,', 'Ford,', 'Lesurer,', 'Ivanoff,', 'Nankoff,', 'Hawksford,', 'Cavendish,', 'Ryerson,', 'McNamee,', 'Stranden,', 'Crosby,', 'Abbott,', 'Sinkkonen,', 'Marvin,', 'Connaghton,', 'Wells,', 'Moor,', 'Vande', 'Jonkoff,', 'Herman,', 'Hamalainen,', 'Carlsson,', 'Bailey,', 'Theobald,', 'Rothes,', 'Garfirth,', 'Nirva,', 'Barah,', 'Carter,', 'Eklund,', 'Hogeboom,', 'Brewe,', 'Mangan,', 'Moran,', 'Gronnestad,', 'Lievens,', 'Jensen,', 'Mack,', 'Elias,', 'Hocking,', 'Myhrman,', 'Tobin,', 'Emanuel,', 'Kilgannon,', 'Robert,', 'Ayoub,', 'Dick,', 'Long,', 'Johnston,', 'Ali,', 'Harmer,', 'Sjoblom,', 'Rice,', 'Dean,', 'Guggenheim,', 'Keane,', 'Gaskell,', 'Sage,', 'Hoyt,', 'Dantcheff,', 'Otter,', 'Leader,', 'Osman,', 'Ibrahim', 'Van', 'Ponesell,', 'Collyer,', 'Carter,', 'Thomas,', 'Hedman,', 'Johansson,', 'Andrews,', 'Pettersson,', 'Meyer,', 'Chambers,', 'Alexander,', 'Lester,', 'Slemen,', 'Andersson,', 'Tomlin,', 'Fry,', 'Heininen,', 'Mallet,', 'Holm,', 'Skoog,', 'Hays,', 'Lulic,', 'Reuchlin,', 'Moor,', 'Panula,', 'Flynn,', 'Lam,', 'Mallet,', 'McCormack,', 'Stone,', 'Yasbeck,', 'Richards,', 'Saad,', 'Augustsson,', 'Allum,', 'Compton,', 'Pasic,', 'Sirota,', 'Chip,', 'Marechal,', 'Alhomaki,', 'Mudd,', 'Serepeca,', 'Lemberopolous,', 'Culumovic,', 'Abbing,', 'Sage,', 'Markoff,', 'Harper,', 'Goldenberg,', 'Andersson,', 'Svensson,', 'Boulos,', 'Lines,', 'Carter,', 'Aks,', 'Wick,', 'Daly,', 'Baclini,', 'Razi,', 'Hansen,', 'Giles,', 'Swift,', 'Sage,', 'Gill,', 'Bystrom,', 'Duran', 'Roebling,', 'van', 'Johnson,', 'Balkic,', 'Beckwith,', 'Carlsson,', 'Vander', 'Abelson,', 'Najib,', 'Gustafsson,', 'Petroff,', 'Laleff,', 'Potter,', 'Shelley,', 'Markun,', 'Dahlberg,', 'Banfield,', 'Sutehall,', 'Rice,', 'Montvila,', 'Graham,', 'Johnston,', 'Behr,', 'Dooley,']\n"
          ],
          "name": "stdout"
        }
      ]
    },
    {
      "cell_type": "code",
      "metadata": {
        "colab": {
          "base_uri": "https://localhost:8080/",
          "height": 110
        },
        "id": "fP_tdO61lKzw",
        "outputId": "e28d6cbf-6021-4ee4-8d5c-d80db79aec28"
      },
      "source": [
        "df.head(n=2)"
      ],
      "execution_count": 21,
      "outputs": [
        {
          "output_type": "execute_result",
          "data": {
            "text/html": [
              "<div>\n",
              "<style scoped>\n",
              "    .dataframe tbody tr th:only-of-type {\n",
              "        vertical-align: middle;\n",
              "    }\n",
              "\n",
              "    .dataframe tbody tr th {\n",
              "        vertical-align: top;\n",
              "    }\n",
              "\n",
              "    .dataframe thead th {\n",
              "        text-align: right;\n",
              "    }\n",
              "</style>\n",
              "<table border=\"1\" class=\"dataframe\">\n",
              "  <thead>\n",
              "    <tr style=\"text-align: right;\">\n",
              "      <th></th>\n",
              "      <th>PassengerId</th>\n",
              "      <th>Survived</th>\n",
              "      <th>Pclass</th>\n",
              "      <th>Name</th>\n",
              "      <th>Sex</th>\n",
              "      <th>Age</th>\n",
              "      <th>SibSp</th>\n",
              "      <th>Parch</th>\n",
              "      <th>Fare</th>\n",
              "      <th>Embarked</th>\n",
              "    </tr>\n",
              "  </thead>\n",
              "  <tbody>\n",
              "    <tr>\n",
              "      <th>0</th>\n",
              "      <td>1</td>\n",
              "      <td>0</td>\n",
              "      <td>3</td>\n",
              "      <td>Braund, Mr. Owen Harris</td>\n",
              "      <td>male</td>\n",
              "      <td>22.0</td>\n",
              "      <td>1</td>\n",
              "      <td>0</td>\n",
              "      <td>7.2500</td>\n",
              "      <td>S</td>\n",
              "    </tr>\n",
              "    <tr>\n",
              "      <th>1</th>\n",
              "      <td>2</td>\n",
              "      <td>1</td>\n",
              "      <td>1</td>\n",
              "      <td>Cumings, Mrs. John Bradley (Florence Briggs Th...</td>\n",
              "      <td>female</td>\n",
              "      <td>38.0</td>\n",
              "      <td>1</td>\n",
              "      <td>0</td>\n",
              "      <td>71.2833</td>\n",
              "      <td>C</td>\n",
              "    </tr>\n",
              "  </tbody>\n",
              "</table>\n",
              "</div>"
            ],
            "text/plain": [
              "   PassengerId  Survived  Pclass  ... Parch     Fare  Embarked\n",
              "0            1         0       3  ...     0   7.2500         S\n",
              "1            2         1       1  ...     0  71.2833         C\n",
              "\n",
              "[2 rows x 10 columns]"
            ]
          },
          "metadata": {
            "tags": []
          },
          "execution_count": 21
        }
      ]
    },
    {
      "cell_type": "code",
      "metadata": {
        "id": "eoRdwAaWlK43"
      },
      "source": [
        "df3 = pd.DataFrame({'lkey': ['foo', 'bar', 'baz', 'foo'],\n",
        "                    'value': [1, 2, 3, 5]})\n"
      ],
      "execution_count": 22,
      "outputs": []
    },
    {
      "cell_type": "code",
      "metadata": {
        "id": "-h5wyMX6lSxk"
      },
      "source": [
        "df4 = pd.DataFrame({'rkey': ['foo', 'bar', 'baz', 'foo'],\n",
        "                    'value': [5, 6, 7, 8]})"
      ],
      "execution_count": 23,
      "outputs": []
    },
    {
      "cell_type": "code",
      "metadata": {
        "colab": {
          "base_uri": "https://localhost:8080/",
          "height": 172
        },
        "id": "cPUa4SshlVl3",
        "outputId": "97a9cd0e-bf20-406d-9650-66c00ed7d6df"
      },
      "source": [
        "df3"
      ],
      "execution_count": 24,
      "outputs": [
        {
          "output_type": "execute_result",
          "data": {
            "text/html": [
              "<div>\n",
              "<style scoped>\n",
              "    .dataframe tbody tr th:only-of-type {\n",
              "        vertical-align: middle;\n",
              "    }\n",
              "\n",
              "    .dataframe tbody tr th {\n",
              "        vertical-align: top;\n",
              "    }\n",
              "\n",
              "    .dataframe thead th {\n",
              "        text-align: right;\n",
              "    }\n",
              "</style>\n",
              "<table border=\"1\" class=\"dataframe\">\n",
              "  <thead>\n",
              "    <tr style=\"text-align: right;\">\n",
              "      <th></th>\n",
              "      <th>lkey</th>\n",
              "      <th>value</th>\n",
              "    </tr>\n",
              "  </thead>\n",
              "  <tbody>\n",
              "    <tr>\n",
              "      <th>0</th>\n",
              "      <td>foo</td>\n",
              "      <td>1</td>\n",
              "    </tr>\n",
              "    <tr>\n",
              "      <th>1</th>\n",
              "      <td>bar</td>\n",
              "      <td>2</td>\n",
              "    </tr>\n",
              "    <tr>\n",
              "      <th>2</th>\n",
              "      <td>baz</td>\n",
              "      <td>3</td>\n",
              "    </tr>\n",
              "    <tr>\n",
              "      <th>3</th>\n",
              "      <td>foo</td>\n",
              "      <td>5</td>\n",
              "    </tr>\n",
              "  </tbody>\n",
              "</table>\n",
              "</div>"
            ],
            "text/plain": [
              "  lkey  value\n",
              "0  foo      1\n",
              "1  bar      2\n",
              "2  baz      3\n",
              "3  foo      5"
            ]
          },
          "metadata": {
            "tags": []
          },
          "execution_count": 24
        }
      ]
    },
    {
      "cell_type": "code",
      "metadata": {
        "colab": {
          "base_uri": "https://localhost:8080/",
          "height": 172
        },
        "id": "sCt4OFC3lVql",
        "outputId": "e5de5e4d-e9fe-48d0-b0ec-1997b2b3a618"
      },
      "source": [
        "df4"
      ],
      "execution_count": 25,
      "outputs": [
        {
          "output_type": "execute_result",
          "data": {
            "text/html": [
              "<div>\n",
              "<style scoped>\n",
              "    .dataframe tbody tr th:only-of-type {\n",
              "        vertical-align: middle;\n",
              "    }\n",
              "\n",
              "    .dataframe tbody tr th {\n",
              "        vertical-align: top;\n",
              "    }\n",
              "\n",
              "    .dataframe thead th {\n",
              "        text-align: right;\n",
              "    }\n",
              "</style>\n",
              "<table border=\"1\" class=\"dataframe\">\n",
              "  <thead>\n",
              "    <tr style=\"text-align: right;\">\n",
              "      <th></th>\n",
              "      <th>rkey</th>\n",
              "      <th>value</th>\n",
              "    </tr>\n",
              "  </thead>\n",
              "  <tbody>\n",
              "    <tr>\n",
              "      <th>0</th>\n",
              "      <td>foo</td>\n",
              "      <td>5</td>\n",
              "    </tr>\n",
              "    <tr>\n",
              "      <th>1</th>\n",
              "      <td>bar</td>\n",
              "      <td>6</td>\n",
              "    </tr>\n",
              "    <tr>\n",
              "      <th>2</th>\n",
              "      <td>baz</td>\n",
              "      <td>7</td>\n",
              "    </tr>\n",
              "    <tr>\n",
              "      <th>3</th>\n",
              "      <td>foo</td>\n",
              "      <td>8</td>\n",
              "    </tr>\n",
              "  </tbody>\n",
              "</table>\n",
              "</div>"
            ],
            "text/plain": [
              "  rkey  value\n",
              "0  foo      5\n",
              "1  bar      6\n",
              "2  baz      7\n",
              "3  foo      8"
            ]
          },
          "metadata": {
            "tags": []
          },
          "execution_count": 25
        }
      ]
    },
    {
      "cell_type": "code",
      "metadata": {
        "colab": {
          "base_uri": "https://localhost:8080/",
          "height": 234
        },
        "id": "HqOqbf0OlVsv",
        "outputId": "668193bc-83d5-4f7a-ef96-c1ac90696f6a"
      },
      "source": [
        "df3.merge(df4, left_on='lkey', right_on='rkey')"
      ],
      "execution_count": 26,
      "outputs": [
        {
          "output_type": "execute_result",
          "data": {
            "text/html": [
              "<div>\n",
              "<style scoped>\n",
              "    .dataframe tbody tr th:only-of-type {\n",
              "        vertical-align: middle;\n",
              "    }\n",
              "\n",
              "    .dataframe tbody tr th {\n",
              "        vertical-align: top;\n",
              "    }\n",
              "\n",
              "    .dataframe thead th {\n",
              "        text-align: right;\n",
              "    }\n",
              "</style>\n",
              "<table border=\"1\" class=\"dataframe\">\n",
              "  <thead>\n",
              "    <tr style=\"text-align: right;\">\n",
              "      <th></th>\n",
              "      <th>lkey</th>\n",
              "      <th>value_x</th>\n",
              "      <th>rkey</th>\n",
              "      <th>value_y</th>\n",
              "    </tr>\n",
              "  </thead>\n",
              "  <tbody>\n",
              "    <tr>\n",
              "      <th>0</th>\n",
              "      <td>foo</td>\n",
              "      <td>1</td>\n",
              "      <td>foo</td>\n",
              "      <td>5</td>\n",
              "    </tr>\n",
              "    <tr>\n",
              "      <th>1</th>\n",
              "      <td>foo</td>\n",
              "      <td>1</td>\n",
              "      <td>foo</td>\n",
              "      <td>8</td>\n",
              "    </tr>\n",
              "    <tr>\n",
              "      <th>2</th>\n",
              "      <td>foo</td>\n",
              "      <td>5</td>\n",
              "      <td>foo</td>\n",
              "      <td>5</td>\n",
              "    </tr>\n",
              "    <tr>\n",
              "      <th>3</th>\n",
              "      <td>foo</td>\n",
              "      <td>5</td>\n",
              "      <td>foo</td>\n",
              "      <td>8</td>\n",
              "    </tr>\n",
              "    <tr>\n",
              "      <th>4</th>\n",
              "      <td>bar</td>\n",
              "      <td>2</td>\n",
              "      <td>bar</td>\n",
              "      <td>6</td>\n",
              "    </tr>\n",
              "    <tr>\n",
              "      <th>5</th>\n",
              "      <td>baz</td>\n",
              "      <td>3</td>\n",
              "      <td>baz</td>\n",
              "      <td>7</td>\n",
              "    </tr>\n",
              "  </tbody>\n",
              "</table>\n",
              "</div>"
            ],
            "text/plain": [
              "  lkey  value_x rkey  value_y\n",
              "0  foo        1  foo        5\n",
              "1  foo        1  foo        8\n",
              "2  foo        5  foo        5\n",
              "3  foo        5  foo        8\n",
              "4  bar        2  bar        6\n",
              "5  baz        3  baz        7"
            ]
          },
          "metadata": {
            "tags": []
          },
          "execution_count": 26
        }
      ]
    },
    {
      "cell_type": "code",
      "metadata": {
        "id": "PCdxAjxGleZr"
      },
      "source": [
        "def name_extract(word):\n",
        "    return word.split(\",\")[1].split(\".\")[0].strip()\n"
      ],
      "execution_count": 27,
      "outputs": []
    },
    {
      "cell_type": "code",
      "metadata": {
        "colab": {
          "base_uri": "https://localhost:8080/",
          "height": 35
        },
        "id": "ld0zcZbllfzo",
        "outputId": "1dbd1d51-2635-450a-c643-1bcede549e58"
      },
      "source": [
        "name_extract(\"Kelly, Mr. James\")"
      ],
      "execution_count": 28,
      "outputs": [
        {
          "output_type": "execute_result",
          "data": {
            "application/vnd.google.colaboratory.intrinsic+json": {
              "type": "string"
            },
            "text/plain": [
              "'Mr'"
            ]
          },
          "metadata": {
            "tags": []
          },
          "execution_count": 28
        }
      ]
    },
    {
      "cell_type": "code",
      "metadata": {
        "id": "4LUF2rtQlf3O"
      },
      "source": [
        "df5=pd.DataFrame({\"Salutation\":df[\"Name\"].apply(name_extract)})"
      ],
      "execution_count": 29,
      "outputs": []
    },
    {
      "cell_type": "code",
      "metadata": {
        "colab": {
          "base_uri": "https://localhost:8080/",
          "height": 203
        },
        "id": "UKfS2XQPlxKr",
        "outputId": "c6c91e9e-8207-4c6f-8e1d-703e9a258e2b"
      },
      "source": [
        "df5.head()"
      ],
      "execution_count": 30,
      "outputs": [
        {
          "output_type": "execute_result",
          "data": {
            "text/html": [
              "<div>\n",
              "<style scoped>\n",
              "    .dataframe tbody tr th:only-of-type {\n",
              "        vertical-align: middle;\n",
              "    }\n",
              "\n",
              "    .dataframe tbody tr th {\n",
              "        vertical-align: top;\n",
              "    }\n",
              "\n",
              "    .dataframe thead th {\n",
              "        text-align: right;\n",
              "    }\n",
              "</style>\n",
              "<table border=\"1\" class=\"dataframe\">\n",
              "  <thead>\n",
              "    <tr style=\"text-align: right;\">\n",
              "      <th></th>\n",
              "      <th>Salutation</th>\n",
              "    </tr>\n",
              "  </thead>\n",
              "  <tbody>\n",
              "    <tr>\n",
              "      <th>0</th>\n",
              "      <td>Mr</td>\n",
              "    </tr>\n",
              "    <tr>\n",
              "      <th>1</th>\n",
              "      <td>Mrs</td>\n",
              "    </tr>\n",
              "    <tr>\n",
              "      <th>2</th>\n",
              "      <td>Miss</td>\n",
              "    </tr>\n",
              "    <tr>\n",
              "      <th>3</th>\n",
              "      <td>Mrs</td>\n",
              "    </tr>\n",
              "    <tr>\n",
              "      <th>4</th>\n",
              "      <td>Mr</td>\n",
              "    </tr>\n",
              "  </tbody>\n",
              "</table>\n",
              "</div>"
            ],
            "text/plain": [
              "  Salutation\n",
              "0         Mr\n",
              "1        Mrs\n",
              "2       Miss\n",
              "3        Mrs\n",
              "4         Mr"
            ]
          },
          "metadata": {
            "tags": []
          },
          "execution_count": 30
        }
      ]
    },
    {
      "cell_type": "code",
      "metadata": {
        "id": "K9yGfyTvlxTs"
      },
      "source": [
        "df=pd.merge(df,df5,left_index=True,right_index=True)"
      ],
      "execution_count": 31,
      "outputs": []
    },
    {
      "cell_type": "code",
      "metadata": {
        "colab": {
          "base_uri": "https://localhost:8080/",
          "height": 237
        },
        "id": "hjK42QZ0l4dZ",
        "outputId": "4994c7f5-7a02-4b76-f626-171d35056045"
      },
      "source": [
        "df.head()"
      ],
      "execution_count": 32,
      "outputs": [
        {
          "output_type": "execute_result",
          "data": {
            "text/html": [
              "<div>\n",
              "<style scoped>\n",
              "    .dataframe tbody tr th:only-of-type {\n",
              "        vertical-align: middle;\n",
              "    }\n",
              "\n",
              "    .dataframe tbody tr th {\n",
              "        vertical-align: top;\n",
              "    }\n",
              "\n",
              "    .dataframe thead th {\n",
              "        text-align: right;\n",
              "    }\n",
              "</style>\n",
              "<table border=\"1\" class=\"dataframe\">\n",
              "  <thead>\n",
              "    <tr style=\"text-align: right;\">\n",
              "      <th></th>\n",
              "      <th>PassengerId</th>\n",
              "      <th>Survived</th>\n",
              "      <th>Pclass</th>\n",
              "      <th>Name</th>\n",
              "      <th>Sex</th>\n",
              "      <th>Age</th>\n",
              "      <th>SibSp</th>\n",
              "      <th>Parch</th>\n",
              "      <th>Fare</th>\n",
              "      <th>Embarked</th>\n",
              "      <th>Salutation</th>\n",
              "    </tr>\n",
              "  </thead>\n",
              "  <tbody>\n",
              "    <tr>\n",
              "      <th>0</th>\n",
              "      <td>1</td>\n",
              "      <td>0</td>\n",
              "      <td>3</td>\n",
              "      <td>Braund, Mr. Owen Harris</td>\n",
              "      <td>male</td>\n",
              "      <td>22.0</td>\n",
              "      <td>1</td>\n",
              "      <td>0</td>\n",
              "      <td>7.2500</td>\n",
              "      <td>S</td>\n",
              "      <td>Mr</td>\n",
              "    </tr>\n",
              "    <tr>\n",
              "      <th>1</th>\n",
              "      <td>2</td>\n",
              "      <td>1</td>\n",
              "      <td>1</td>\n",
              "      <td>Cumings, Mrs. John Bradley (Florence Briggs Th...</td>\n",
              "      <td>female</td>\n",
              "      <td>38.0</td>\n",
              "      <td>1</td>\n",
              "      <td>0</td>\n",
              "      <td>71.2833</td>\n",
              "      <td>C</td>\n",
              "      <td>Mrs</td>\n",
              "    </tr>\n",
              "    <tr>\n",
              "      <th>2</th>\n",
              "      <td>3</td>\n",
              "      <td>1</td>\n",
              "      <td>3</td>\n",
              "      <td>Heikkinen, Miss. Laina</td>\n",
              "      <td>female</td>\n",
              "      <td>26.0</td>\n",
              "      <td>0</td>\n",
              "      <td>0</td>\n",
              "      <td>7.9250</td>\n",
              "      <td>S</td>\n",
              "      <td>Miss</td>\n",
              "    </tr>\n",
              "    <tr>\n",
              "      <th>3</th>\n",
              "      <td>4</td>\n",
              "      <td>1</td>\n",
              "      <td>1</td>\n",
              "      <td>Futrelle, Mrs. Jacques Heath (Lily May Peel)</td>\n",
              "      <td>female</td>\n",
              "      <td>35.0</td>\n",
              "      <td>1</td>\n",
              "      <td>0</td>\n",
              "      <td>53.1000</td>\n",
              "      <td>S</td>\n",
              "      <td>Mrs</td>\n",
              "    </tr>\n",
              "    <tr>\n",
              "      <th>4</th>\n",
              "      <td>5</td>\n",
              "      <td>0</td>\n",
              "      <td>3</td>\n",
              "      <td>Allen, Mr. William Henry</td>\n",
              "      <td>male</td>\n",
              "      <td>35.0</td>\n",
              "      <td>0</td>\n",
              "      <td>0</td>\n",
              "      <td>8.0500</td>\n",
              "      <td>S</td>\n",
              "      <td>Mr</td>\n",
              "    </tr>\n",
              "  </tbody>\n",
              "</table>\n",
              "</div>"
            ],
            "text/plain": [
              "   PassengerId  Survived  Pclass  ...     Fare Embarked  Salutation\n",
              "0            1         0       3  ...   7.2500        S          Mr\n",
              "1            2         1       1  ...  71.2833        C         Mrs\n",
              "2            3         1       3  ...   7.9250        S        Miss\n",
              "3            4         1       1  ...  53.1000        S         Mrs\n",
              "4            5         0       3  ...   8.0500        S          Mr\n",
              "\n",
              "[5 rows x 11 columns]"
            ]
          },
          "metadata": {
            "tags": []
          },
          "execution_count": 32
        }
      ]
    },
    {
      "cell_type": "code",
      "metadata": {
        "colab": {
          "base_uri": "https://localhost:8080/"
        },
        "id": "50dcb6Rll4ic",
        "outputId": "b4d5f1d1-e292-4312-a417-8bf34ba65a90"
      },
      "source": [
        "df.Salutation.unique()"
      ],
      "execution_count": 33,
      "outputs": [
        {
          "output_type": "execute_result",
          "data": {
            "text/plain": [
              "array(['Mr', 'Mrs', 'Miss', 'Master', 'Don', 'Rev', 'Dr', 'Mme', 'Ms',\n",
              "       'Major', 'Lady', 'Sir', 'Mlle', 'Col', 'Capt', 'the Countess',\n",
              "       'Jonkheer'], dtype=object)"
            ]
          },
          "metadata": {
            "tags": []
          },
          "execution_count": 33
        }
      ]
    }
  ]
}